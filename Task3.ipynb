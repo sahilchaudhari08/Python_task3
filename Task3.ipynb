{
 "cells": [
  {
   "cell_type": "markdown",
   "metadata": {},
   "source": [
    "#### **Task 3 - List Method Example of Every Method Atleast 2.**"
   ]
  },
  {
   "cell_type": "markdown",
   "metadata": {},
   "source": [
    "##### 1. append()"
   ]
  },
  {
   "cell_type": "code",
   "execution_count": 37,
   "metadata": {},
   "outputs": [],
   "source": [
    "city = ['Nandanwan', 'Besa', 'Hingna', 'Kamthi', 'Pardi']\n",
    "pin = [24, 37, 10, 22, 35]\n",
    "area = ['Nandanwan', 24, 'Besa', 37, 'Hingna', 10, 'kamthi', 22, 'Pardi', 35 ]"
   ]
  },
  {
   "cell_type": "code",
   "execution_count": 38,
   "metadata": {},
   "outputs": [
    {
     "data": {
      "text/plain": [
       "(['Nandanwan', 'Besa', 'Hingna', 'Kamthi', 'Pardi'],\n",
       " [24, 37, 10, 22, 35],\n",
       " ['Nandanwan', 24, 'Besa', 37, 'Hingna', 10, 'kamthi', 22, 'Pardi', 35])"
      ]
     },
     "execution_count": 38,
     "metadata": {},
     "output_type": "execute_result"
    }
   ],
   "source": [
    "(city,\n",
    " pin,\n",
    " area)"
   ]
  },
  {
   "cell_type": "code",
   "execution_count": 39,
   "metadata": {},
   "outputs": [
    {
     "data": {
      "text/plain": [
       "(None, None, None)"
      ]
     },
     "execution_count": 39,
     "metadata": {},
     "output_type": "execute_result"
    }
   ],
   "source": [
    "(city.append('wadi'),\n",
    "pin.append(44),\n",
    "area.append('wadi'))"
   ]
  },
  {
   "cell_type": "code",
   "execution_count": 40,
   "metadata": {},
   "outputs": [
    {
     "data": {
      "text/plain": [
       "(['Nandanwan', 'Besa', 'Hingna', 'Kamthi', 'Pardi', 'wadi'],\n",
       " [24, 37, 10, 22, 35, 44],\n",
       " ['Nandanwan',\n",
       "  24,\n",
       "  'Besa',\n",
       "  37,\n",
       "  'Hingna',\n",
       "  10,\n",
       "  'kamthi',\n",
       "  22,\n",
       "  'Pardi',\n",
       "  35,\n",
       "  'wadi'])"
      ]
     },
     "execution_count": 40,
     "metadata": {},
     "output_type": "execute_result"
    }
   ],
   "source": [
    "(city,\n",
    " pin,\n",
    " area )"
   ]
  },
  {
   "cell_type": "markdown",
   "metadata": {},
   "source": [
    "#### Append Method are used to add Extra Element in the Index."
   ]
  },
  {
   "cell_type": "markdown",
   "metadata": {},
   "source": [
    "---"
   ]
  },
  {
   "cell_type": "markdown",
   "metadata": {},
   "source": [
    "#### 2. clear()"
   ]
  },
  {
   "cell_type": "code",
   "execution_count": 41,
   "metadata": {},
   "outputs": [
    {
     "data": {
      "text/plain": [
       "(['Nandanwan', 'Besa', 'Hingna', 'Kamthi', 'Pardi', 'wadi'],\n",
       " [24, 37, 10, 22, 35, 44],\n",
       " ['Nandanwan',\n",
       "  24,\n",
       "  'Besa',\n",
       "  37,\n",
       "  'Hingna',\n",
       "  10,\n",
       "  'kamthi',\n",
       "  22,\n",
       "  'Pardi',\n",
       "  35,\n",
       "  'wadi'])"
      ]
     },
     "execution_count": 41,
     "metadata": {},
     "output_type": "execute_result"
    }
   ],
   "source": [
    "(city,\n",
    " pin,\n",
    " area )"
   ]
  },
  {
   "cell_type": "code",
   "execution_count": 42,
   "metadata": {},
   "outputs": [
    {
     "data": {
      "text/plain": [
       "(None, None, None)"
      ]
     },
     "execution_count": 42,
     "metadata": {},
     "output_type": "execute_result"
    }
   ],
   "source": [
    "\n",
    "(city.clear(),\n",
    " pin.clear(),\n",
    " area.clear() )"
   ]
  },
  {
   "cell_type": "code",
   "execution_count": 43,
   "metadata": {},
   "outputs": [
    {
     "data": {
      "text/plain": [
       "([], [], [])"
      ]
     },
     "execution_count": 43,
     "metadata": {},
     "output_type": "execute_result"
    }
   ],
   "source": [
    "(city,\n",
    " pin,\n",
    " area )"
   ]
  },
  {
   "cell_type": "markdown",
   "metadata": {},
   "source": [
    "#### Clear method used to empty index."
   ]
  },
  {
   "cell_type": "markdown",
   "metadata": {},
   "source": [
    "---"
   ]
  },
  {
   "cell_type": "markdown",
   "metadata": {},
   "source": [
    "#### 3. copy()"
   ]
  },
  {
   "cell_type": "code",
   "execution_count": 78,
   "metadata": {},
   "outputs": [],
   "source": [
    "city = ['Nandanwan', 'Besa', 'Hingna', 'Kamthi', 'Pardi']\n",
    "pin = [24, 37, 10, 22, 35]\n",
    "area = ['Nandanwan', 24, 'Besa', 37, 'Hingna', 10, 'kamthi', 22, 'Pardi', 35 ]"
   ]
  },
  {
   "cell_type": "code",
   "execution_count": 79,
   "metadata": {},
   "outputs": [
    {
     "data": {
      "text/plain": [
       "(['Nandanwan', 'Besa', 'Hingna', 'Kamthi', 'Pardi'],\n",
       " [24, 37, 10, 22, 35],\n",
       " ['Nandanwan', 24, 'Besa', 37, 'Hingna', 10, 'kamthi', 22, 'Pardi', 35])"
      ]
     },
     "execution_count": 79,
     "metadata": {},
     "output_type": "execute_result"
    }
   ],
   "source": [
    "(city.copy(),\n",
    " pin.copy(),\n",
    " area.copy())"
   ]
  },
  {
   "cell_type": "code",
   "execution_count": 80,
   "metadata": {},
   "outputs": [
    {
     "data": {
      "text/plain": [
       "(['Nandanwan', 'Besa', 'Hingna', 'Kamthi', 'Pardi'],\n",
       " [24, 37, 10, 22, 35],\n",
       " ['Nandanwan', 24, 'Besa', 37, 'Hingna', 10, 'kamthi', 22, 'Pardi', 35])"
      ]
     },
     "execution_count": 80,
     "metadata": {},
     "output_type": "execute_result"
    }
   ],
   "source": [
    "(city,\n",
    " pin,\n",
    " area )"
   ]
  },
  {
   "cell_type": "markdown",
   "metadata": {},
   "source": [
    "---"
   ]
  },
  {
   "cell_type": "markdown",
   "metadata": {},
   "source": [
    "#### 4. count()"
   ]
  },
  {
   "cell_type": "code",
   "execution_count": 112,
   "metadata": {},
   "outputs": [],
   "source": [
    "city = ['Nandanwan', 'Besa', 'Hingna', 'Kamthi', 'Pardi', 'Besa']\n",
    "pin = [24, 37, 10, 37, 35, 37, ]\n",
    "area = ['Nandanwan', 24, 'Besa', 37, 'Hingna', 24, 'kamthi', 22, 'Pardi', 35, 'Hingna', 24]"
   ]
  },
  {
   "cell_type": "code",
   "execution_count": 66,
   "metadata": {},
   "outputs": [
    {
     "data": {
      "text/plain": [
       "(2, 3, 3)"
      ]
     },
     "execution_count": 66,
     "metadata": {},
     "output_type": "execute_result"
    }
   ],
   "source": [
    "(city.count('Besa'),\n",
    " pin.count(37),\n",
    " area.count(24) )"
   ]
  },
  {
   "cell_type": "markdown",
   "metadata": {},
   "source": [
    "##### Count method used to count the number of the specific element in index."
   ]
  },
  {
   "cell_type": "markdown",
   "metadata": {},
   "source": [
    "---"
   ]
  },
  {
   "cell_type": "markdown",
   "metadata": {},
   "source": [
    "#### 5. extend()"
   ]
  },
  {
   "cell_type": "code",
   "execution_count": 81,
   "metadata": {},
   "outputs": [],
   "source": [
    "city.extend(pin)"
   ]
  },
  {
   "cell_type": "code",
   "execution_count": 82,
   "metadata": {},
   "outputs": [
    {
     "data": {
      "text/plain": [
       "['Nandanwan', 'Besa', 'Hingna', 'Kamthi', 'Pardi', 24, 37, 10, 22, 35]"
      ]
     },
     "execution_count": 82,
     "metadata": {},
     "output_type": "execute_result"
    }
   ],
   "source": [
    "city"
   ]
  },
  {
   "cell_type": "markdown",
   "metadata": {},
   "source": [
    "##### Using extend() to Add Elements from Another List"
   ]
  },
  {
   "cell_type": "markdown",
   "metadata": {},
   "source": [
    "----"
   ]
  },
  {
   "cell_type": "markdown",
   "metadata": {},
   "source": [
    "#### 6. index()"
   ]
  },
  {
   "cell_type": "code",
   "execution_count": 83,
   "metadata": {},
   "outputs": [
    {
     "data": {
      "text/plain": [
       "(['Nandanwan', 'Besa', 'Hingna', 'Kamthi', 'Pardi', 24, 37, 10, 22, 35],\n",
       " [24, 37, 10, 22, 35],\n",
       " ['Nandanwan', 24, 'Besa', 37, 'Hingna', 10, 'kamthi', 22, 'Pardi', 35])"
      ]
     },
     "execution_count": 83,
     "metadata": {},
     "output_type": "execute_result"
    }
   ],
   "source": [
    "(city,\n",
    " pin,\n",
    " area )"
   ]
  },
  {
   "cell_type": "code",
   "execution_count": 92,
   "metadata": {},
   "outputs": [
    {
     "data": {
      "text/plain": [
       "(3, 4, 8)"
      ]
     },
     "execution_count": 92,
     "metadata": {},
     "output_type": "execute_result"
    }
   ],
   "source": [
    "(city.index('Kamthi'),\n",
    "pin.index(35),\n",
    "area.index('Pardi')\n",
    ")"
   ]
  },
  {
   "cell_type": "markdown",
   "metadata": {},
   "source": [
    "##### Index used to find the position a specified value in a list."
   ]
  },
  {
   "cell_type": "markdown",
   "metadata": {},
   "source": [
    "---"
   ]
  },
  {
   "cell_type": "markdown",
   "metadata": {},
   "source": [
    "#### 7. insert()"
   ]
  },
  {
   "cell_type": "code",
   "execution_count": 118,
   "metadata": {},
   "outputs": [
    {
     "data": {
      "text/plain": [
       "(['Nandanwan', 'Besa', 'Saoner', 'Hingna', 'Kamthi'],\n",
       " [24, 37, 10, 32, 37],\n",
       " ['Nandanwan',\n",
       "  24,\n",
       "  'Besa',\n",
       "  37,\n",
       "  'Hingna',\n",
       "  'Dharampeth',\n",
       "  24,\n",
       "  'kamthi',\n",
       "  22,\n",
       "  'Pardi',\n",
       "  35,\n",
       "  'Hingna'])"
      ]
     },
     "execution_count": 118,
     "metadata": {},
     "output_type": "execute_result"
    }
   ],
   "source": [
    "(city,\n",
    " pin,\n",
    " area )"
   ]
  },
  {
   "cell_type": "code",
   "execution_count": 119,
   "metadata": {},
   "outputs": [
    {
     "data": {
      "text/plain": [
       "(None, None, None)"
      ]
     },
     "execution_count": 119,
     "metadata": {},
     "output_type": "execute_result"
    }
   ],
   "source": [
    "(city.insert(2, 'Saoner'),\n",
    " pin.insert(3, 32),\n",
    " area.insert(5, 'Dharampeth') )"
   ]
  },
  {
   "cell_type": "code",
   "execution_count": 120,
   "metadata": {},
   "outputs": [
    {
     "data": {
      "text/plain": [
       "(['Nandanwan', 'Besa', 'Saoner', 'Saoner', 'Hingna', 'Kamthi'],\n",
       " [24, 37, 10, 32, 32, 37],\n",
       " ['Nandanwan',\n",
       "  24,\n",
       "  'Besa',\n",
       "  37,\n",
       "  'Hingna',\n",
       "  'Dharampeth',\n",
       "  'Dharampeth',\n",
       "  24,\n",
       "  'kamthi',\n",
       "  22,\n",
       "  'Pardi',\n",
       "  35,\n",
       "  'Hingna'])"
      ]
     },
     "execution_count": 120,
     "metadata": {},
     "output_type": "execute_result"
    }
   ],
   "source": [
    "(city, \n",
    " pin,\n",
    " area)"
   ]
  },
  {
   "cell_type": "markdown",
   "metadata": {},
   "source": [
    "##### In the insert method, add an element at a specific index in a list"
   ]
  },
  {
   "cell_type": "markdown",
   "metadata": {},
   "source": [
    "---"
   ]
  },
  {
   "cell_type": "markdown",
   "metadata": {},
   "source": [
    "#### 8. pop()"
   ]
  },
  {
   "cell_type": "code",
   "execution_count": 121,
   "metadata": {},
   "outputs": [
    {
     "data": {
      "text/plain": [
       "('Kamthi', 37, 'Hingna')"
      ]
     },
     "execution_count": 121,
     "metadata": {},
     "output_type": "execute_result"
    }
   ],
   "source": [
    "(city.pop(), \n",
    "pin.pop(),\n",
    "area.pop()\n",
    ")"
   ]
  },
  {
   "cell_type": "markdown",
   "metadata": {},
   "source": [
    "#### The pop() method is used to remove an element from a list, If no index is given, it removes the last element by default."
   ]
  },
  {
   "cell_type": "code",
   "execution_count": 122,
   "metadata": {},
   "outputs": [
    {
     "data": {
      "text/plain": [
       "('Saoner', 32, 'Dharampeth')"
      ]
     },
     "execution_count": 122,
     "metadata": {},
     "output_type": "execute_result"
    }
   ],
   "source": [
    "(city.pop(2), \n",
    "pin.pop(3),\n",
    "area.pop(6)\n",
    ")"
   ]
  },
  {
   "cell_type": "markdown",
   "metadata": {},
   "source": [
    "##### remove specific element"
   ]
  },
  {
   "cell_type": "markdown",
   "metadata": {},
   "source": [
    "---"
   ]
  },
  {
   "cell_type": "markdown",
   "metadata": {},
   "source": [
    "#### 9. remove()"
   ]
  },
  {
   "cell_type": "code",
   "execution_count": 134,
   "metadata": {},
   "outputs": [
    {
     "data": {
      "text/plain": [
       "['Nandanwan',\n",
       " 24,\n",
       " 'Besa',\n",
       " 37,\n",
       " 'Hingna',\n",
       " 'Dharampeth',\n",
       " 24,\n",
       " 'kamthi',\n",
       " 22,\n",
       " 'Pardi',\n",
       " 35]"
      ]
     },
     "execution_count": 134,
     "metadata": {},
     "output_type": "execute_result"
    }
   ],
   "source": [
    "area"
   ]
  },
  {
   "cell_type": "code",
   "execution_count": 135,
   "metadata": {},
   "outputs": [
    {
     "data": {
      "text/plain": [
       "(None, None, None)"
      ]
     },
     "execution_count": 135,
     "metadata": {},
     "output_type": "execute_result"
    }
   ],
   "source": [
    "(city.remove('Saoner'),\n",
    "pin.remove(37),\n",
    "area.remove('Hingna'))"
   ]
  },
  {
   "cell_type": "code",
   "execution_count": 136,
   "metadata": {},
   "outputs": [
    {
     "data": {
      "text/plain": [
       "(['Nandanwan'],\n",
       " [24, 32],\n",
       " ['Nandanwan', 24, 'Besa', 37, 'Dharampeth', 24, 'kamthi', 22, 'Pardi', 35])"
      ]
     },
     "execution_count": 136,
     "metadata": {},
     "output_type": "execute_result"
    }
   ],
   "source": [
    "(city,\n",
    " pin,\n",
    " area)"
   ]
  },
  {
   "cell_type": "markdown",
   "metadata": {},
   "source": [
    "##### remove method used to remove a specific element of the index"
   ]
  },
  {
   "cell_type": "markdown",
   "metadata": {},
   "source": [
    "---"
   ]
  },
  {
   "cell_type": "markdown",
   "metadata": {},
   "source": [
    "10. #### reverse()"
   ]
  },
  {
   "cell_type": "code",
   "execution_count": 137,
   "metadata": {},
   "outputs": [
    {
     "data": {
      "text/plain": [
       "(None, None, None)"
      ]
     },
     "execution_count": 137,
     "metadata": {},
     "output_type": "execute_result"
    }
   ],
   "source": [
    "(city.reverse(),\n",
    " pin.reverse(),\n",
    " area.reverse())"
   ]
  },
  {
   "cell_type": "code",
   "execution_count": 138,
   "metadata": {},
   "outputs": [
    {
     "data": {
      "text/plain": [
       "(['Nandanwan'],\n",
       " [32, 24],\n",
       " [35, 'Pardi', 22, 'kamthi', 24, 'Dharampeth', 37, 'Besa', 24, 'Nandanwan'])"
      ]
     },
     "execution_count": 138,
     "metadata": {},
     "output_type": "execute_result"
    }
   ],
   "source": [
    "(city,\n",
    " pin,\n",
    " area)"
   ]
  },
  {
   "cell_type": "markdown",
   "metadata": {},
   "source": [
    "##### Reverse Method used to arrange elements in opposite direction."
   ]
  },
  {
   "cell_type": "markdown",
   "metadata": {},
   "source": [
    "---\n"
   ]
  },
  {
   "cell_type": "markdown",
   "metadata": {},
   "source": [
    "#### 11. sort()"
   ]
  },
  {
   "cell_type": "code",
   "execution_count": 140,
   "metadata": {},
   "outputs": [],
   "source": [
    "city.sort()\n"
   ]
  },
  {
   "cell_type": "code",
   "execution_count": 141,
   "metadata": {},
   "outputs": [
    {
     "data": {
      "text/plain": [
       "['Nandanwan']"
      ]
     },
     "execution_count": 141,
     "metadata": {},
     "output_type": "execute_result"
    }
   ],
   "source": [
    "city"
   ]
  },
  {
   "cell_type": "code",
   "execution_count": 142,
   "metadata": {},
   "outputs": [],
   "source": [
    " pin.sort()"
   ]
  },
  {
   "cell_type": "code",
   "execution_count": 143,
   "metadata": {},
   "outputs": [
    {
     "data": {
      "text/plain": [
       "[24, 32]"
      ]
     },
     "execution_count": 143,
     "metadata": {},
     "output_type": "execute_result"
    }
   ],
   "source": [
    "pin\n"
   ]
  },
  {
   "cell_type": "code",
   "execution_count": null,
   "metadata": {},
   "outputs": [
    {
     "ename": "TypeError",
     "evalue": "'<' not supported between instances of 'str' and 'int'",
     "output_type": "error",
     "traceback": [
      "\u001b[1;31m---------------------------------------------------------------------------\u001b[0m",
      "\u001b[1;31mTypeError\u001b[0m                                 Traceback (most recent call last)",
      "Cell \u001b[1;32mIn[144], line 1\u001b[0m\n\u001b[1;32m----> 1\u001b[0m area\u001b[38;5;241m.\u001b[39msort()\n",
      "\u001b[1;31mTypeError\u001b[0m: '<' not supported between instances of 'str' and 'int'"
     ]
    }
   ],
   "source": [
    "\n",
    " area.sort()\n"
   ]
  },
  {
   "cell_type": "markdown",
   "metadata": {},
   "source": [
    "##### Python does not allow sorting lists that contain both strings and numbers, because it can't compare different data types."
   ]
  },
  {
   "cell_type": "markdown",
   "metadata": {},
   "source": [
    "---"
   ]
  }
 ],
 "metadata": {
  "kernelspec": {
   "display_name": "base",
   "language": "python",
   "name": "python3"
  },
  "language_info": {
   "codemirror_mode": {
    "name": "ipython",
    "version": 3
   },
   "file_extension": ".py",
   "mimetype": "text/x-python",
   "name": "python",
   "nbconvert_exporter": "python",
   "pygments_lexer": "ipython3",
   "version": "3.12.7"
  }
 },
 "nbformat": 4,
 "nbformat_minor": 2
}
